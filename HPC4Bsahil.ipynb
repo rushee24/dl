{
  "cells": [
    {
      "cell_type": "code",
      "execution_count": null,
      "metadata": {},
      "outputs": [],
      "source": []
    },
    {
      "cell_type": "code",
      "execution_count": 1,
      "metadata": {
        "colab": {
          "base_uri": "https://localhost:8080/"
        },
        "id": "XcueIZNoV1aY",
        "outputId": "2591bfb3-d6ef-458c-b3da-9518f7ba3ec1"
      },
      "outputs": [
        {
          "name": "stdout",
          "output_type": "stream",
          "text": [
            "nvcc: NVIDIA (R) Cuda compiler driver\n",
            "Copyright (c) 2005-2022 NVIDIA Corporation\n",
            "Built on Wed_Sep_21_10:33:58_PDT_2022\n",
            "Cuda compilation tools, release 11.8, V11.8.89\n",
            "Build cuda_11.8.r11.8/compiler.31833905_0\n"
          ]
        }
      ],
      "source": [
        "!nvcc --version"
      ]
    },
    {
      "cell_type": "code",
      "execution_count": 7,
      "metadata": {
        "id": "Ao8pnaQPV3EO"
      },
      "outputs": [],
      "source": [
        "code = \"\"\"\n",
        "#include <stdio.h> \n",
        "#include <stdlib.h>\n",
        "#define N 1024 \n",
        "#define BLOCK_SIZE 16\n",
        "__global__ void matrixMul(int *a, int *b, int *c, int width) { int row = blockIdx.y * blockDim.y + threadIdx.y;\n",
        "int col = blockIdx.x * blockDim.x + threadIdx.x;\n",
        "int sum = 0;\n",
        "for (int i = 0; i < width; i++) {\n",
        "sum += a[row * width + i] * b[i * width + col];\n",
        "}\n",
        "c[row * width + col] = sum; }\n",
        "int main() {\n",
        "int *a, *b, *c;\n",
        "int *d_a, *d_b, *d_c;\n",
        "int size = N * N * sizeof(int);\n",
        "\n",
        "// Allocate memory on host \n",
        "a = (int*)malloc(size);\n",
        "b = (int*)malloc(size);\n",
        "c = (int*)malloc(size);\n",
        "\n",
        "// Initialize matrices\n",
        "for (int i = 0; i < N; i++) {\n",
        "for (int j = 0; j < N; j++) { a[i * N + j] = i + j;\n",
        "b[i * N + j] = i - j;\n",
        "} }\n",
        "\n",
        "// Allocate memory on device \n",
        "cudaMalloc(&d_a, size);\n",
        "cudaMalloc(&d_b, size); \n",
        "cudaMalloc(&d_c, size);\n",
        "\n",
        "// Copy data from host to device\n",
        "cudaMemcpy(d_a, a, size, cudaMemcpyHostToDevice); \n",
        "cudaMemcpy(d_b, b, size, cudaMemcpyHostToDevice);\n",
        "\n",
        "// Launch kernel with 2D grid and 2D block\n",
        "dim3 dimBlock(BLOCK_SIZE, BLOCK_SIZE);\n",
        "dim3 dimGrid((N + dimBlock.x - 1) / dimBlock.x, (N + dimBlock.y - 1) / dimBlock.y); \n",
        "matrixMul<<<dimGrid, dimBlock>>>(d_a, d_b, d_c, N);\n",
        "\n",
        "// Copy result from device to host\n",
        "cudaMemcpy(c, d_c, size, cudaMemcpyDeviceToHost);\n",
        "\n",
        "// Print first and last elements of result\n",
        "printf(\"c[0][0] = %d, c[%d][%d] = %d\", c[0], N-1, N-1, c[(N-1) * N + (N-1)]);\n",
        "// Free memory free(a); free(b); free(c); cudaFree(d_a); cudaFree(d_b); cudaFree(d_c);\n",
        "return 0; }\n",
        "\"\"\"\n"
      ]
    },
    {
      "cell_type": "code",
      "execution_count": 8,
      "metadata": {
        "id": "uINqoHCRWPUJ"
      },
      "outputs": [],
      "source": [
        "text_file = open(\"assign4b.cu\",\"w\") \n",
        "text_file.write(code) \n",
        "text_file.close()\n"
      ]
    },
    {
      "cell_type": "code",
      "execution_count": 9,
      "metadata": {
        "id": "cyJCVIKCWXg8"
      },
      "outputs": [],
      "source": [
        "\n",
        "!nvcc assign4b.cu"
      ]
    },
    {
      "cell_type": "code",
      "execution_count": 10,
      "metadata": {
        "colab": {
          "base_uri": "https://localhost:8080/"
        },
        "id": "v5rCka5XWgF0",
        "outputId": "586eebff-0e69-439b-a719-dce22190efff"
      },
      "outputs": [
        {
          "name": "stdout",
          "output_type": "stream",
          "text": [
            "c[0][0] = 0, c[1023][1023] = 0"
          ]
        }
      ],
      "source": [
        "\n",
        "!./a.out"
      ]
    },
    {
      "cell_type": "code",
      "execution_count": null,
      "metadata": {
        "id": "mQrk_aCZWlHG"
      },
      "outputs": [],
      "source": []
    }
  ],
  "metadata": {
    "colab": {
      "provenance": []
    },
    "kernelspec": {
      "display_name": "Python 3",
      "name": "python3"
    },
    "language_info": {
      "name": "python"
    }
  },
  "nbformat": 4,
  "nbformat_minor": 0
}
