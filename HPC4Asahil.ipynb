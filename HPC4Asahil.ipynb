{
  "nbformat": 4,
  "nbformat_minor": 0,
  "metadata": {
    "colab": {
      "provenance": [],
      "gpuType": "T4"
    },
    "kernelspec": {
      "name": "python3",
      "display_name": "Python 3"
    },
    "language_info": {
      "name": "python"
    },
    "accelerator": "GPU",
    "gpuClass": "standard"
  },
  "cells": [
    {
      "cell_type": "code",
      "execution_count": 1,
      "metadata": {
        "colab": {
          "base_uri": "https://localhost:8080/"
        },
        "id": "FDVQ7pqSXFcV",
        "outputId": "3ec32e55-73f2-497c-8f74-93205a197399"
      },
      "outputs": [
        {
          "output_type": "stream",
          "name": "stdout",
          "text": [
            "nvcc: NVIDIA (R) Cuda compiler driver\n",
            "Copyright (c) 2005-2022 NVIDIA Corporation\n",
            "Built on Wed_Sep_21_10:33:58_PDT_2022\n",
            "Cuda compilation tools, release 11.8, V11.8.89\n",
            "Build cuda_11.8.r11.8/compiler.31833905_0\n"
          ]
        }
      ],
      "source": [
        "!nvcc --version\n"
      ]
    },
    {
      "cell_type": "code",
      "source": [
        "\n",
        "code = \"\"\"\n",
        "#include <stdio.h> \n",
        "#include <stdlib.h>\n",
        "#define N 1000000\n",
        "__global__ void add(int *a, int *b, int *c) {\n",
        "int tid = blockIdx.x * blockDim.x + threadIdx.x; if (tid < N) {\n",
        "c[tid] = a[tid] + b[tid]; }\n",
        "}\n",
        "int main() {\n",
        "int *a, *b, *c;\n",
        "int *d_a, *d_b, *d_c;\n",
        "int size = N * sizeof(int);\n",
        "\n",
        "// Allocate memory on host \n",
        "a = (int*)malloc(size);\n",
        "b = (int*)malloc(size);\n",
        "c = (int*)malloc(size);\n",
        "\n",
        "// Initialize arrays\n",
        "for (int i = 0; i < N; i++) {\n",
        "a[i] = i;\n",
        "b[i] = i * 2; }\n",
        "\n",
        "// Allocate memory on device \n",
        "cudaMalloc(&d_a, size); \n",
        "cudaMalloc(&d_b, size); \n",
        "cudaMalloc(&d_c, size);\n",
        "\n",
        "// Copy data from host to device\n",
        "cudaMemcpy(d_a, a, size, cudaMemcpyHostToDevice); \n",
        "cudaMemcpy(d_b, b, size, cudaMemcpyHostToDevice);\n",
        "\n",
        "// Launch kernel with 1 million threads \n",
        "add<<<(N + 255) / 256, 256>>>(d_a, d_b, d_c);\n",
        "\n",
        "// Copy result from device to host\n",
        "cudaMemcpy(c, d_c, size, cudaMemcpyDeviceToHost);\n",
        "\n",
        "// Print first and last elements of result \n",
        "printf(\"c[0]=%d, c[%d] = %d\",c[0],N-1,c[N-1]);\n",
        "\n",
        "// Free memory \n",
        "free(a); \n",
        "free(b); \n",
        "free(c); \n",
        "cudaFree(d_a);\n",
        "cudaFree(d_b); \n",
        "cudaFree(d_c);\n",
        "return 0; }\n",
        "\"\"\"\n"
      ],
      "metadata": {
        "id": "KcN2Gl_6XOzR"
      },
      "execution_count": 2,
      "outputs": []
    },
    {
      "cell_type": "code",
      "source": [
        "text_file = open(\"assign4.cu\",\"w\") \n",
        "text_file.write(code) \n",
        "text_file.close()"
      ],
      "metadata": {
        "id": "EZfgTigmXo-R"
      },
      "execution_count": 4,
      "outputs": []
    },
    {
      "cell_type": "code",
      "source": [
        "!nvcc assign4.cu\n"
      ],
      "metadata": {
        "id": "2m88-Wr_XuGy"
      },
      "execution_count": 5,
      "outputs": []
    },
    {
      "cell_type": "code",
      "source": [
        "!./a.out"
      ],
      "metadata": {
        "colab": {
          "base_uri": "https://localhost:8080/"
        },
        "id": "E9XAsG03X0Xu",
        "outputId": "26d6b1b7-f226-4f0a-e528-3f3a26393b36"
      },
      "execution_count": 6,
      "outputs": [
        {
          "output_type": "stream",
          "name": "stdout",
          "text": [
            "c[0]=0, c[999999] = 2999997"
          ]
        }
      ]
    },
    {
      "cell_type": "code",
      "source": [
        "!nvprof ./a.out"
      ],
      "metadata": {
        "colab": {
          "base_uri": "https://localhost:8080/"
        },
        "id": "xNFFR5gCX2cA",
        "outputId": "f727b83d-fafa-4c9a-b23c-a1ecc292b582"
      },
      "execution_count": 7,
      "outputs": [
        {
          "output_type": "stream",
          "name": "stdout",
          "text": [
            "==983== NVPROF is profiling process 983, command: ./a.out\n",
            "==983== c[0]=0, c[999999] = 2999997Profiling application: ./a.out\n",
            "==983== Profiling result:\n",
            "            Type  Time(%)      Time     Calls       Avg       Min       Max  Name\n",
            " GPU activities:   50.81%  1.4915ms         1  1.4915ms  1.4915ms  1.4915ms  [CUDA memcpy DtoH]\n",
            "                   47.58%  1.3964ms         2  698.22us  668.11us  728.34us  [CUDA memcpy HtoD]\n",
            "                    1.61%  47.327us         1  47.327us  47.327us  47.327us  add(int*, int*, int*)\n",
            "      API calls:   97.19%  210.05ms         3  70.018ms  62.203us  209.92ms  cudaMalloc\n",
            "                    2.10%  4.5352ms         3  1.5117ms  894.31us  2.7241ms  cudaMemcpy\n",
            "                    0.39%  845.06us         1  845.06us  845.06us  845.06us  cuDeviceGetPCIBusId\n",
            "                    0.24%  513.04us         3  171.01us  110.16us  202.44us  cudaFree\n",
            "                    0.05%  111.67us       101  1.1050us     128ns  47.162us  cuDeviceGetAttribute\n",
            "                    0.02%  34.625us         1  34.625us  34.625us  34.625us  cuDeviceGetName\n",
            "                    0.01%  25.616us         1  25.616us  25.616us  25.616us  cudaLaunchKernel\n",
            "                    0.00%  1.7530us         3     584ns     181ns  1.3370us  cuDeviceGetCount\n",
            "                    0.00%  1.0520us         2     526ns     211ns     841ns  cuDeviceGet\n",
            "                    0.00%     534ns         1     534ns     534ns     534ns  cuModuleGetLoadingMode\n",
            "                    0.00%     522ns         1     522ns     522ns     522ns  cuDeviceTotalMem\n",
            "                    0.00%     218ns         1     218ns     218ns     218ns  cuDeviceGetUuid\n"
          ]
        }
      ]
    }
  ]
}